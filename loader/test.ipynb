{
 "cells": [
  {
   "cell_type": "code",
   "execution_count": null,
   "metadata": {},
   "outputs": [],
   "source": [
    "import os\n",
    "import json\n",
    "import pandas as pd"
   ]
  },
  {
   "cell_type": "code",
   "execution_count": null,
   "metadata": {},
   "outputs": [],
   "source": [
    "# get list of folders\n",
    "\n",
    "folders=os.listdir()\n",
    "\n",
    "for folder in folders:\n",
    "    # get all the files inside a folder\n",
    "    if os.path.isdir(folder):\n",
    "        files=os.listdir(folder)\n",
    "        for file in files:\n",
    "            fp=os.path.join(folder,file)\n",
    "            print(fp)\n",
    "            with open(fp,'r') as f:\n",
    "                s=f.read()\n",
    "                print(s)\n",
    "                break\n",
    "            break\n",
    "        break"
   ]
  },
  {
   "cell_type": "code",
   "execution_count": null,
   "metadata": {},
   "outputs": [],
   "source": [
    "# column stats in one log file\n",
    "with open('sftpgo-2024-05-01T10-06-26.993/sftpgo-2024-09-17T03-02-24.212.log','r') as f:\n",
    "    s=f.read()\n",
    "    lines=s.split(\"\\n\")\n",
    "    keys_freq={}\n",
    "    for line in lines:\n",
    "        if len(line)>0:\n",
    "            row=json.loads(line)\n",
    "            for key,value in row.items():\n",
    "                if key in keys_freq:\n",
    "                    keys_freq[key]+=1\n",
    "                else:\n",
    "                    keys_freq[key]=1\n",
    "            \n",
    "\n",
    "keys_freq\n"
   ]
  },
  {
   "cell_type": "code",
   "execution_count": null,
   "metadata": {},
   "outputs": [],
   "source": [
    "# total number of cols\n",
    "\n",
    "len(keys_freq)"
   ]
  },
  {
   "cell_type": "code",
   "execution_count": null,
   "metadata": {},
   "outputs": [],
   "source": [
    "# check if every col has same number of cols\n",
    "\n",
    "for folder in folders:\n",
    "    # get all the files inside a folder\n",
    "    if os.path.isdir(folder):\n",
    "        files=os.listdir(folder)\n",
    "        for file in files:\n",
    "            fp=os.path.join(folder,file)\n",
    "            with open(fp,'r') as f:\n",
    "                s=f.read()\n",
    "                lines=s.split(\"\\n\")\n",
    "                keys_freq={}\n",
    "                for line in lines:\n",
    "                    if len(line)>0:\n",
    "                        row=json.loads(line)\n",
    "                        for key,value in row.items():\n",
    "                            if key in keys_freq:\n",
    "                                keys_freq[key]+=1\n",
    "                            else:\n",
    "                                keys_freq[key]=1\n",
    "            print(len(keys_freq))\n",
    "\n",
    "# so there are multiple number of cols in each log file. No of cols is not constant."
   ]
  },
  {
   "cell_type": "code",
   "execution_count": null,
   "metadata": {},
   "outputs": [],
   "source": [
    "# create a df using all the log files\n",
    "\n",
    "df_ld=[]\n",
    "\n",
    "for folder in folders:\n",
    "    # get all the files inside a folder\n",
    "    if os.path.isdir(folder):\n",
    "        files=os.listdir(folder)\n",
    "        for file in files:\n",
    "            fp=os.path.join(folder,file)\n",
    "            with open(fp,'r') as f:\n",
    "                s=f.read()\n",
    "                lines=s.split(\"\\n\")\n",
    "                keys_freq={}\n",
    "                for line in lines:\n",
    "                    if len(line)>0:\n",
    "                        row=json.loads(line)\n",
    "                        df_ld.append(row)\n",
    "\n",
    "df=pd.json_normalize(df_ld)"
   ]
  },
  {
   "cell_type": "code",
   "execution_count": null,
   "metadata": {},
   "outputs": [],
   "source": [
    "#lets check the number of rows and cols in the df\n",
    "\n",
    "df.shape"
   ]
  },
  {
   "cell_type": "code",
   "execution_count": null,
   "metadata": {},
   "outputs": [],
   "source": [
    "# lets verify this no of cols and rows \n",
    "\n",
    "cols={}\n",
    "r=0\n",
    "for folder in folders:\n",
    "    # get all the files inside a folder\n",
    "    if os.path.isdir(folder):\n",
    "        files=os.listdir(folder)\n",
    "        for file in files:\n",
    "            fp=os.path.join(folder,file)\n",
    "            with open(fp,'r') as f:\n",
    "                s=f.read()\n",
    "                lines=s.split(\"\\n\")\n",
    "                keys_freq={}\n",
    "                for line in lines:\n",
    "                    if len(line)>0:\n",
    "                        r+=1\n",
    "                        row=json.loads(line)\n",
    "                        for key,value in row.items():\n",
    "                            if key in cols:\n",
    "                                cols[key]+=1\n",
    "                            else:\n",
    "                                cols[key]=1\n",
    "\n",
    "print(r,len(cols))\n",
    "\n",
    "                        "
   ]
  },
  {
   "cell_type": "code",
   "execution_count": null,
   "metadata": {},
   "outputs": [],
   "source": [
    "# so the df is created in a right way"
   ]
  },
  {
   "cell_type": "code",
   "execution_count": null,
   "metadata": {},
   "outputs": [],
   "source": [
    "# lets describe the df\n",
    "\n",
    "df.describe()"
   ]
  },
  {
   "cell_type": "code",
   "execution_count": null,
   "metadata": {},
   "outputs": [],
   "source": [
    "df.head()"
   ]
  },
  {
   "cell_type": "code",
   "execution_count": null,
   "metadata": {},
   "outputs": [],
   "source": [
    "# df.to_excel(\"2024-05-01T10-06-26.xlsx\")"
   ]
  },
  {
   "cell_type": "code",
   "execution_count": null,
   "metadata": {},
   "outputs": [],
   "source": [
    "df_test=[]\n",
    "with open('sftpgo-2024-05-01T10-06-26.993/sftpgo-2024-09-17T03-02-24.212.log','r') as f:\n",
    "    s=f.read()\n",
    "    lines=s.split(\"\\n\")\n",
    "    keys_freq={}\n",
    "    for line in lines:\n",
    "        if len(line)>0:\n",
    "            row=json.loads(line)\n",
    "            df_test.append(row)\n",
    "\n",
    "df_test=pd.json_normalize(df_test)\n",
    "df_test.head()"
   ]
  },
  {
   "cell_type": "code",
   "execution_count": null,
   "metadata": {},
   "outputs": [],
   "source": [
    "df_test.to_excel(\"df_test.xlsx\")"
   ]
  },
  {
   "cell_type": "code",
   "execution_count": null,
   "metadata": {},
   "outputs": [],
   "source": []
  }
 ],
 "metadata": {
  "kernelspec": {
   "display_name": "Python 3",
   "language": "python",
   "name": "python3"
  },
  "language_info": {
   "codemirror_mode": {
    "name": "ipython",
    "version": 3
   },
   "file_extension": ".py",
   "mimetype": "text/x-python",
   "name": "python",
   "nbconvert_exporter": "python",
   "pygments_lexer": "ipython3",
   "version": "3.9.6"
  },
  "orig_nbformat": 4
 },
 "nbformat": 4,
 "nbformat_minor": 2
}
